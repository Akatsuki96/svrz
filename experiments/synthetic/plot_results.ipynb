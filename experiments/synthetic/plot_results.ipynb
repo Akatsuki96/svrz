{
 "cells": [
  {
   "cell_type": "code",
   "execution_count": 3,
   "metadata": {},
   "outputs": [],
   "source": [
    "import numpy as np\n",
    "\n",
    "import matplotlib.pyplot as plt"
   ]
  },
  {
   "cell_type": "code",
   "execution_count": 19,
   "metadata": {},
   "outputs": [],
   "source": [
    "directory = \"./results/least_squares\"\n",
    "\n",
    "methods = [\n",
    "    ('S-SZD' , f'{directory}/sszd.log'),\n",
    "    ('SZVR-G' , f'{directory}/szvr_g.log'),\n",
    "    # ('Spider-SZO' , f'{directory}/spider_szo.log'),\n",
    "    # ('ZO-Spider-Coord' , f'{directory}/zo_spider_coord.log'),\n",
    "    ('ZO-SVRG-Ave' , f'{directory}/zosvrg_ave.log'),\n",
    "    ('ZO-SVRG-Coord' , f'{directory}/zosvrg_coord.log'),\n",
    "    ('ZO-SVRG-Coord-Rand' , f'{directory}/zosvrg_coord_rand.log'),\n",
    "    ('O-SVRZ' , f'{directory}/osvrz.log'),\n",
    "]\n",
    "budget = 1000000\n",
    "\n",
    "def read_result(budget, path):\n",
    "    mu_val, std_val = [], []\n",
    "    mu_tim, std_tim = [], []\n",
    "    with open(path, 'r') as f:\n",
    "        for line in f.readlines():\n",
    "            splitted = line.split(\",\")\n",
    "            mu_val += [float(splitted[0]) for _ in range(int(splitted[-1]))]\n",
    "            std_val += [float(splitted[1]) for _ in range(int(splitted[-1]))]\n",
    "            mu_tim += [float(splitted[2]) for _ in range(int(splitted[-1]))]\n",
    "            std_tim += [float(splitted[3]) for _ in range(int(splitted[-1]))]\n",
    "            if len(mu_val) > budget:\n",
    "                break\n",
    "    mu_val, std_val = np.array(mu_val)[:budget], np.array(std_val)[:budget]\n",
    "    mu_tim, std_tim = np.array(mu_tim)[:budget], np.array(std_tim)[:budget]\n",
    "    return dict(values=(mu_val, std_val), times=(mu_tim, std_tim))\n"
   ]
  },
  {
   "cell_type": "code",
   "execution_count": 21,
   "metadata": {},
   "outputs": [],
   "source": [
    "fig, (ax1, ax2) = plt.subplots(1, 2, figsize=(14, 6))\n",
    "\n",
    "ax1.set_title(\"Function values\")\n",
    "ax2.set_title(\"Cumulative Computational Cost\")\n",
    "\n",
    "for (label, path) in methods:\n",
    "    ris = read_result(budget, path)\n",
    "    mu_values, std_values = ris['values']\n",
    "    mu_times,  std_times  = ris['times']\n",
    "    \n",
    "    ax1.plot(range(len(mu_values)), mu_values, '-', label=label)\n",
    "    ax1.fill_between(range(len(mu_values)), mu_values - std_values, mu_values + std_values, alpha=0.6)\n",
    "    ax2.plot(range(len(mu_times)), mu_times, '-', label=label)\n",
    "    ax2.fill_between(range(len(mu_times)), mu_times - std_times, mu_times + std_times, alpha=0.6)\n",
    "    ris = None\n",
    "\n",
    "ax1.set_yscale('log')\n",
    "ax2.set_yscale('log')\n",
    "ax1.legend(loc='upper right')\n",
    "\n",
    "ax1.set_xlabel(\"# stochastic function values\", fontsize=12)\n",
    "ax1.set_ylabel(\"$F(x^\\\\tau) - F(x^*)$\", fontsize=12)\n",
    "\n",
    "ax2.set_xlabel(\"# stochastic function values\", fontsize=12)\n",
    "ax2.set_ylabel(\"Cost (s)\", fontsize=12)\n",
    "\n",
    "fig.tight_layout()\n",
    "fig.savefig(\"test.png\", bbox_inches='tight')\n"
   ]
  }
 ],
 "metadata": {
  "kernelspec": {
   "display_name": "svrz_env",
   "language": "python",
   "name": "python3"
  },
  "language_info": {
   "codemirror_mode": {
    "name": "ipython",
    "version": 3
   },
   "file_extension": ".py",
   "mimetype": "text/x-python",
   "name": "python",
   "nbconvert_exporter": "python",
   "pygments_lexer": "ipython3",
   "version": "3.10.14"
  }
 },
 "nbformat": 4,
 "nbformat_minor": 2
}
