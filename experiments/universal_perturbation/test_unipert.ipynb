{
 "cells": [
  {
   "cell_type": "code",
   "execution_count": 1,
   "metadata": {},
   "outputs": [],
   "source": [
    "import sys\n",
    "import torch\n",
    "import torchvision\n",
    "import torchvision.transforms as transforms\n",
    "\n",
    "from torch.nn import CrossEntropyLoss\n",
    "from torch.optim import Adam\n",
    "\n",
    "from math import floor\n",
    "\n",
    "from torch.utils.data import SubsetRandomSampler\n",
    "\n",
    "import torch.nn.functional as F\n",
    "\n",
    "sys.path.append(\"../\")\n",
    "from net import MNISTNet"
   ]
  },
  {
   "cell_type": "code",
   "execution_count": 2,
   "metadata": {},
   "outputs": [],
   "source": [
    "transform = transforms.Compose([\n",
    "    transforms.ToTensor(),\n",
    "#    transforms.Normalize((0.5,), (0.5,))\n",
    "])\n",
    "batch_size=128\n",
    "seed = 12131415\n",
    "\n",
    "# Download and load the training data\n",
    "training_set = torchvision.datasets.MNIST(root='./data', train=True, download=True, transform=transform)\n",
    "test_set = torchvision.datasets.MNIST(root='./data', train=False, download=True, transform=transform)\n",
    "test_loader = torch.utils.data.DataLoader(test_set, batch_size=batch_size, shuffle=True)\n",
    "\n",
    "train_size = len(training_set)\n",
    "valid_size = 0.2\n",
    "split_point = int(floor(valid_size * train_size))\n",
    "indices = list(range(train_size))\n",
    "\n",
    "tr_idx, vl_idx = indices[split_point:], indices[:split_point]\n",
    "\n",
    "tr_sampler = SubsetRandomSampler(tr_idx, generator = torch.Generator().manual_seed(seed))\n",
    "vl_sampler = SubsetRandomSampler(vl_idx, generator = torch.Generator().manual_seed(seed))\n",
    "\n",
    "training_loader = torch.utils.data.DataLoader(training_set, batch_size=batch_size, sampler=tr_sampler)\n",
    "validation_loader = torch.utils.data.DataLoader(training_set, batch_size=batch_size, sampler=vl_sampler)\n",
    "\n"
   ]
  },
  {
   "cell_type": "code",
   "execution_count": 3,
   "metadata": {},
   "outputs": [
    {
     "data": {
      "text/plain": [
       "<All keys matched successfully>"
      ]
     },
     "execution_count": 3,
     "metadata": {},
     "output_type": "execute_result"
    }
   ],
   "source": [
    "device = 'cuda'\n",
    "net = MNISTNet(device=device)\n",
    "net.load_state_dict(torch.load(\"./models/mnist/student\"))\n"
   ]
  },
  {
   "cell_type": "code",
   "execution_count": 4,
   "metadata": {},
   "outputs": [
    {
     "name": "stdout",
     "output_type": "stream",
     "text": [
      "Accuracy on Training: 0.9487291666666666\n",
      "Accuracy on Validation: 0.941\n",
      "Accuracy on Test: 0.944\n"
     ]
    }
   ],
   "source": [
    "def compute_accuracy(loader):\n",
    "    net.eval()\n",
    "    running_loss = 0.0\n",
    "    for (i, data) in enumerate(loader):\n",
    "        x, y = data\n",
    "        x = x.to(device)\n",
    "        preds = net(x)\n",
    "        running_loss += (y == F.softmax(preds.cpu(), 1).max(1)[1]).to(torch.int64).sum().item()\n",
    "    return running_loss\n",
    "print(\"Accuracy on Training:\", compute_accuracy(training_loader) / len(tr_idx))    \n",
    "print(\"Accuracy on Validation:\", compute_accuracy(validation_loader) / len(vl_idx))    \n",
    "print(\"Accuracy on Test:\", compute_accuracy(test_loader) / len(test_set))    "
   ]
  },
  {
   "cell_type": "code",
   "execution_count": 5,
   "metadata": {},
   "outputs": [],
   "source": [
    "X  = test_set.data.view(-1, 1, 28, 28).to(torch.float32)\n",
    "y = test_set.targets\n",
    "net = net.to('cpu')\n",
    "\n",
    "preds = net(X)\n"
   ]
  },
  {
   "cell_type": "code",
   "execution_count": 6,
   "metadata": {},
   "outputs": [
    {
     "data": {
      "text/plain": [
       "torch.Size([10000, 1, 28, 28])"
      ]
     },
     "execution_count": 6,
     "metadata": {},
     "output_type": "execute_result"
    }
   ],
   "source": [
    "X.shape"
   ]
  },
  {
   "cell_type": "code",
   "execution_count": 133,
   "metadata": {},
   "outputs": [
    {
     "name": "stdout",
     "output_type": "stream",
     "text": [
      "torch.Size([30000, 784])\n"
     ]
    }
   ],
   "source": [
    "v = (torch.full((3, 28 * 28), 0.5) )\n",
    "W = ((X.view(-1, 28 * 28).repeat(3, 1) + v.repeat_interleave(X.shape[0], dim=0)).tanh() + 1) / 2\n",
    "print(W.shape)"
   ]
  },
  {
   "cell_type": "code",
   "execution_count": 134,
   "metadata": {},
   "outputs": [],
   "source": [
    "preds = F.softmax(net(W.view(-1, 1, 28, 28)), dim=1)"
   ]
  },
  {
   "cell_type": "code",
   "execution_count": 135,
   "metadata": {},
   "outputs": [
    {
     "data": {
      "text/plain": [
       "torch.Size([10000])"
      ]
     },
     "execution_count": 135,
     "metadata": {},
     "output_type": "execute_result"
    }
   ],
   "source": [
    "test_set.targets.shape"
   ]
  },
  {
   "cell_type": "code",
   "execution_count": 136,
   "metadata": {},
   "outputs": [
    {
     "data": {
      "text/plain": [
       "tensor([[0.0000e+00, 7.2237e-24, 0.0000e+00,  ..., 1.0000e+00, 0.0000e+00,\n",
       "         0.0000e+00],\n",
       "        [2.3981e-32, 1.0000e+00, 3.5088e-40,  ..., 1.3025e-21, 4.0872e-37,\n",
       "         6.2444e-36],\n",
       "        [0.0000e+00, 1.0000e+00, 0.0000e+00,  ..., 1.1178e-39, 0.0000e+00,\n",
       "         0.0000e+00],\n",
       "        ...,\n",
       "        [1.3645e-36, 1.9338e-05, 3.3383e-39,  ..., 9.9998e-01, 5.4090e-43,\n",
       "         4.2557e-42],\n",
       "        [2.9204e-36, 1.0000e+00, 0.0000e+00,  ..., 4.3054e-21, 8.8282e-44,\n",
       "         1.2606e-41],\n",
       "        [1.6764e-24, 1.7365e-17, 5.5948e-32,  ..., 1.0000e+00, 8.8108e-37,\n",
       "         8.8806e-29]], grad_fn=<SoftmaxBackward0>)"
      ]
     },
     "execution_count": 136,
     "metadata": {},
     "output_type": "execute_result"
    }
   ],
   "source": [
    "preds"
   ]
  },
  {
   "cell_type": "code",
   "execution_count": 137,
   "metadata": {},
   "outputs": [
    {
     "data": {
      "text/plain": [
       "(tensor([[0.0000e+00, 7.2237e-24, 0.0000e+00, 0.0000e+00, 0.0000e+00, 0.0000e+00,\n",
       "          0.0000e+00, 1.0000e+00, 0.0000e+00, 0.0000e+00],\n",
       "         [2.3981e-32, 1.0000e+00, 3.5088e-40, 1.2270e-37, 1.1273e-38, 2.9423e-32,\n",
       "          1.5098e-37, 1.3025e-21, 4.0872e-37, 6.2444e-36],\n",
       "         [0.0000e+00, 1.0000e+00, 0.0000e+00, 0.0000e+00, 0.0000e+00, 0.0000e+00,\n",
       "          0.0000e+00, 1.1178e-39, 0.0000e+00, 0.0000e+00],\n",
       "         [1.6521e-42, 1.4574e-43, 0.0000e+00, 0.0000e+00, 0.0000e+00, 0.0000e+00,\n",
       "          0.0000e+00, 1.0000e+00, 0.0000e+00, 1.2612e-44],\n",
       "         [1.5208e-40, 3.0051e-31, 1.9044e-39, 4.2039e-45, 0.0000e+00, 0.0000e+00,\n",
       "          0.0000e+00, 1.0000e+00, 1.4013e-45, 1.8972e-41],\n",
       "         [0.0000e+00, 1.0000e+00, 0.0000e+00, 0.0000e+00, 0.0000e+00, 0.0000e+00,\n",
       "          0.0000e+00, 2.8728e-41, 0.0000e+00, 0.0000e+00],\n",
       "         [3.6509e-34, 1.2137e-11, 3.3087e-31, 2.9209e-35, 1.7493e-31, 3.3127e-37,\n",
       "          8.6909e-42, 1.0000e+00, 6.3881e-36, 5.5615e-33],\n",
       "         [2.0478e-23, 2.3477e-13, 3.7845e-28, 7.2889e-31, 1.2138e-33, 1.3701e-31,\n",
       "          1.3657e-37, 1.0000e+00, 3.0136e-30, 1.2476e-27],\n",
       "         [7.4944e-41, 7.7343e-32, 7.0171e-40, 2.6625e-44, 0.0000e+00, 0.0000e+00,\n",
       "          0.0000e+00, 1.0000e+00, 0.0000e+00, 5.7944e-42],\n",
       "         [5.6050e-40, 2.9264e-18, 9.5159e-41, 1.7516e-43, 0.0000e+00, 0.0000e+00,\n",
       "          0.0000e+00, 1.0000e+00, 0.0000e+00, 2.5504e-43],\n",
       "         [7.8440e-23, 4.9294e-31, 1.0202e-36, 6.2722e-42, 0.0000e+00, 7.8473e-44,\n",
       "          0.0000e+00, 1.0000e+00, 7.5670e-44, 8.7650e-34],\n",
       "         [9.9571e-26, 1.0000e+00, 7.7514e-31, 1.6482e-30, 3.7701e-32, 2.1280e-27,\n",
       "          2.2712e-32, 9.1105e-08, 4.7595e-31, 2.8496e-28],\n",
       "         [5.2164e-35, 3.4005e-08, 2.1920e-37, 2.0373e-41, 4.0498e-43, 4.3062e-42,\n",
       "          0.0000e+00, 1.0000e+00, 3.2111e-41, 1.4635e-39],\n",
       "         [9.3534e-17, 4.6207e-32, 8.3641e-39, 5.6052e-45, 0.0000e+00, 1.4013e-44,\n",
       "          0.0000e+00, 1.0000e+00, 0.0000e+00, 3.4439e-38],\n",
       "         [0.0000e+00, 1.0000e+00, 0.0000e+00, 0.0000e+00, 0.0000e+00, 0.0000e+00,\n",
       "          0.0000e+00, 1.6958e-38, 0.0000e+00, 0.0000e+00],\n",
       "         [4.6421e-09, 7.3633e-13, 1.5890e-20, 1.2542e-22, 1.3648e-24, 4.9326e-17,\n",
       "          7.1157e-23, 1.0000e+00, 1.0325e-21, 5.3671e-17],\n",
       "         [3.1580e-38, 1.0179e-30, 1.8584e-39, 2.2421e-44, 9.8091e-45, 0.0000e+00,\n",
       "          0.0000e+00, 1.0000e+00, 1.4013e-44, 2.2433e-37],\n",
       "         [0.0000e+00, 2.3879e-37, 0.0000e+00, 0.0000e+00, 0.0000e+00, 0.0000e+00,\n",
       "          0.0000e+00, 1.0000e+00, 0.0000e+00, 0.0000e+00],\n",
       "         [2.8158e-25, 4.8917e-12, 6.6635e-32, 1.5817e-33, 6.4749e-40, 6.4488e-35,\n",
       "          2.6905e-43, 1.0000e+00, 1.0484e-37, 2.6978e-32],\n",
       "         [1.5901e-35, 2.7004e-16, 2.0664e-34, 1.4764e-40, 1.6328e-32, 6.8930e-42,\n",
       "          0.0000e+00, 1.0000e+00, 1.4094e-39, 2.0674e-37]],\n",
       "        grad_fn=<SliceBackward0>),\n",
       " tensor([7, 2]))"
      ]
     },
     "execution_count": 137,
     "metadata": {},
     "output_type": "execute_result"
    }
   ],
   "source": [
    "preds[:20], test_set.targets[:2]"
   ]
  },
  {
   "cell_type": "code",
   "execution_count": 138,
   "metadata": {},
   "outputs": [
    {
     "data": {
      "text/plain": [
       "torch.Size([30000, 10])"
      ]
     },
     "execution_count": 138,
     "metadata": {},
     "output_type": "execute_result"
    }
   ],
   "source": [
    "preds.shape"
   ]
  },
  {
   "cell_type": "code",
   "execution_count": 139,
   "metadata": {},
   "outputs": [
    {
     "data": {
      "text/plain": [
       "torch.Size([3, 10000])"
      ]
     },
     "execution_count": 139,
     "metadata": {},
     "output_type": "execute_result"
    }
   ],
   "source": [
    "preds.max(dim=1)[0].view(3, -1).shape"
   ]
  },
  {
   "cell_type": "code",
   "execution_count": 140,
   "metadata": {},
   "outputs": [
    {
     "data": {
      "text/plain": [
       "torch.Size([30000, 10])"
      ]
     },
     "execution_count": 140,
     "metadata": {},
     "output_type": "execute_result"
    }
   ],
   "source": [
    "preds.shape\n"
   ]
  },
  {
   "cell_type": "code",
   "execution_count": 142,
   "metadata": {},
   "outputs": [
    {
     "name": "stdout",
     "output_type": "stream",
     "text": [
      "tensor([[ 53.2847, -90.8481,  89.6894,  ...,     -inf, -92.2265, -98.3517],\n",
      "        [ 53.2847, -90.8481,  89.6894,  ...,     -inf, -92.2265, -98.3517],\n",
      "        [ 53.2847, -90.8481,  89.6894,  ...,     -inf, -92.2265, -98.3517]],\n",
      "       grad_fn=<SubBackward0>)\n"
     ]
    },
    {
     "data": {
      "text/plain": [
       "tensor([[53.2847,  0.0000, 89.6894,  ...,  0.0000,  0.0000,  0.0000],\n",
       "        [53.2847,  0.0000, 89.6894,  ...,  0.0000,  0.0000,  0.0000],\n",
       "        [53.2847,  0.0000, 89.6894,  ...,  0.0000,  0.0000,  0.0000]],\n",
       "       grad_fn=<MaximumBackward0>)"
      ]
     },
     "execution_count": 142,
     "metadata": {},
     "output_type": "execute_result"
    }
   ],
   "source": [
    "\n",
    "p1 = preds.gather(1, test_set.targets.repeat(v.shape[0]).view(-1, 1)).view(3, -1).log() \n",
    "\n",
    "mask = torch.ones_like(preds, dtype=torch.bool)\n",
    "mask[torch.arange(mask.shape[0]), test_set.targets.repeat(v.shape[0]).view(-1)] = False\n",
    "\n",
    "p2 = preds[mask].view(mask.shape[0], -1).log().max(1)[0].view(3, -1)\n",
    "\n",
    "print(p1 - p2)\n",
    "\n",
    "torch.maximum(p1 - p2, torch.zeros_like(p1))\n",
    "\n",
    "\n",
    "#print(p2)\n",
    "#pz = torch.zeros_like(pp)\n",
    "#torch.maximum(preds.gather(1, test_set.targets.repeat(v.shape[0]).view(-1, 1)).view(3, -1).log() - preds.log().max(dim=1)[0].view(3, -1), pz) #- preds.log().max(dim=1)[0].view(3, -1)"
   ]
  },
  {
   "cell_type": "code",
   "execution_count": 98,
   "metadata": {},
   "outputs": [
    {
     "data": {
      "text/plain": [
       "tensor([[1., 1., 1.,  ..., 0., 1., 1.],\n",
       "        [1., 1., 0.,  ..., 1., 1., 1.],\n",
       "        [1., 0., 1.,  ..., 1., 1., 1.],\n",
       "        ...,\n",
       "        [1., 1., 1.,  ..., 1., 1., 1.],\n",
       "        [1., 1., 1.,  ..., 1., 1., 1.],\n",
       "        [1., 1., 1.,  ..., 1., 1., 1.]])"
      ]
     },
     "execution_count": 98,
     "metadata": {},
     "output_type": "execute_result"
    }
   ],
   "source": [
    "mask = torch.ones_like(preds)\n",
    "mask[torch.arange(mask.shape[0]), test_set.targets.repeat(v.shape[0]).view(-1)] = False\n",
    "\n"
   ]
  },
  {
   "cell_type": "code",
   "execution_count": 104,
   "metadata": {},
   "outputs": [
    {
     "data": {
      "text/plain": [
       "torch.Size([30000, 9])"
      ]
     },
     "execution_count": 104,
     "metadata": {},
     "output_type": "execute_result"
    }
   ],
   "source": [
    "preds.shape, mask.shape\n",
    "\n",
    "preds[mask.to(torch.bool)].view(mask.shape[0], -1)"
   ]
  },
  {
   "cell_type": "code",
   "execution_count": 84,
   "metadata": {},
   "outputs": [
    {
     "name": "stdout",
     "output_type": "stream",
     "text": [
      "tensor([[7, 2, 1,  ..., 4, 5, 6],\n",
      "        [7, 2, 1,  ..., 4, 5, 6],\n",
      "        [7, 2, 1,  ..., 4, 5, 6]])\n"
     ]
    }
   ],
   "source": [
    "print(F.softmax(preds, 1).max(1)[1].view(-1, X.shape[0]))"
   ]
  },
  {
   "cell_type": "code",
   "execution_count": 85,
   "metadata": {},
   "outputs": [
    {
     "name": "stdout",
     "output_type": "stream",
     "text": [
      "torch.Size([30000, 10])\n"
     ]
    }
   ],
   "source": [
    "Y = F.softmax(preds, 1)\n",
    "print(Y.shape)"
   ]
  },
  {
   "cell_type": "code",
   "execution_count": 17,
   "metadata": {},
   "outputs": [
    {
     "name": "stdout",
     "output_type": "stream",
     "text": [
      "torch.Size([30000, 784])\n"
     ]
    }
   ],
   "source": [
    "v = torch.eye(3, 28 * 28)\n",
    "W = X.view(-1, 28 * 28).repeat(3, 1) + v.repeat_interleave(X.shape[0], dim=0)\n",
    "print(W.shape)"
   ]
  },
  {
   "cell_type": "code",
   "execution_count": 64,
   "metadata": {},
   "outputs": [
    {
     "data": {
      "text/plain": [
       "<matplotlib.image.AxesImage at 0x7fbdd4df69e0>"
      ]
     },
     "execution_count": 64,
     "metadata": {},
     "output_type": "execute_result"
    },
    {
     "data": {
      "image/png": "[encoded data removed]",
      "text/plain": [
       "<Figure size 640x480 with 1 Axes>"
      ]
     },
     "metadata": {},
     "output_type": "display_data"
    }
   ],
   "source": [
    "import matplotlib.pyplot as plt\n",
    "\n",
    "fig, ax = plt.subplots()\n",
    "ax.imshow(W[0].view(28, 28))"
   ]
  },
  {
   "cell_type": "code",
   "execution_count": 37,
   "metadata": {},
   "outputs": [
    {
     "name": "stdout",
     "output_type": "stream",
     "text": [
      "Original:  9\n",
      "Modified:  9\n"
     ]
    },
    {
     "data": {
      "text/plain": [
       "<matplotlib.image.AxesImage at 0x7fe8e1d94b80>"
      ]
     },
     "execution_count": 37,
     "metadata": {},
     "output_type": "execute_result"
    },
    {
     "data": {
      "image/png": "[encoded data removed]",
      "text/plain": [
       "<Figure size 640x480 with 2 Axes>"
      ]
     },
     "metadata": {},
     "output_type": "display_data"
    }
   ],
   "source": [
    "import matplotlib.pyplot as plt\n",
    "\n",
    "x  = test_set.data[12]\n",
    "net = net.to('cpu')\n",
    "print(\"Original: \", F.softmax(net(x.view(1, 1, 28, 28).to(torch.float32)), 1).max(1)[1].item())\n",
    "\n",
    "v =  5 * torch.randn(28 * 28)\n",
    "\n",
    "w = (x.view(-1) + v).view(28, 28)\n",
    "print(\"Modified: \", F.softmax(net(w.view(1, 1, 28, 28).to(torch.float32)), 1).max(1)[1].item())\n",
    "\n",
    "fig, (ax1, ax2) = plt.subplots(1, 2)\n",
    "ax1.imshow(x.view(28,28), cmap='Grays')\n",
    "ax2.imshow(w, cmap='Grays')"
   ]
  }
 ],
 "metadata": {
  "kernelspec": {
   "display_name": "svrz_env",
   "language": "python",
   "name": "python3"
  },
  "language_info": {
   "codemirror_mode": {
    "name": "ipython",
    "version": 3
   },
   "file_extension": ".py",
   "mimetype": "text/x-python",
   "name": "python",
   "nbconvert_exporter": "python",
   "pygments_lexer": "ipython3",
   "version": "3.10.14"
  }
 },
 "nbformat": 4,
 "nbformat_minor": 2
}
