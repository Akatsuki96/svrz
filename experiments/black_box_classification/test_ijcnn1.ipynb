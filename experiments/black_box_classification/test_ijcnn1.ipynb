{
 "cells": [
  {
   "cell_type": "code",
   "execution_count": 1,
   "metadata": {},
   "outputs": [],
   "source": [
    "import torch\n",
    "import sys\n",
    "\n",
    "from torch.nn import BCELoss, CrossEntropyLoss\n",
    "from torch.utils.data import random_split\n",
    "\n",
    "sys.path.append(\"../\")\n",
    "from datasets import RealDataset, load_libsvm_data\n",
    "from targets import TargetFunction\n"
   ]
  },
  {
   "cell_type": "code",
   "execution_count": 2,
   "metadata": {},
   "outputs": [],
   "source": [
    "dtype = torch.float64\n",
    "device = 'cpu'\n",
    "training_fraction=0.8\n",
    "generator = torch.Generator().manual_seed(12131415)\n",
    "\n",
    "def train_test_split(X, y, training_fraction = 0.8):\n",
    "    tr_ind, te_ind = random_split(range(X.shape[0]), [training_fraction, 1 - training_fraction], generator=generator)\n",
    "    return X[tr_ind, :], X[te_ind, :], y[tr_ind], y[te_ind]\n",
    "\n",
    "X, y = load_libsvm_data(datapath=\"/data/mrando/phishing/phishing\", dtype=dtype, device=device)\n",
    "#X_te, y_te = load_libsvm_data(datapath=\"/data/mrando/ijcnn1/ijcnn1.t\", dtype=dtype, device=device)\n",
    "\n",
    "X_tr, X_te, y_tr, y_te = train_test_split(X, y, training_fraction=training_fraction)\n",
    "\n",
    "\n"
   ]
  },
  {
   "cell_type": "code",
   "execution_count": 3,
   "metadata": {},
   "outputs": [],
   "source": [
    "def standardize(X, y):\n",
    "    X_new = (X - X.mean())/X.std()\n",
    "    y_new = y.clone()\n",
    "    y_new[y_new < 0] = 0\n",
    "    return X_new, y_new"
   ]
  },
  {
   "cell_type": "code",
   "execution_count": 4,
   "metadata": {},
   "outputs": [
    {
     "data": {
      "text/plain": [
       "(torch.float64, torch.float64)"
      ]
     },
     "execution_count": 4,
     "metadata": {},
     "output_type": "execute_result"
    }
   ],
   "source": [
    "X_tr.dtype, y_tr.dtype"
   ]
  },
  {
   "cell_type": "code",
   "execution_count": 6,
   "metadata": {},
   "outputs": [],
   "source": [
    "training_set = RealDataset(*standardize(X_tr, y_tr))\n",
    "test_set     = RealDataset(*standardize(X_te, y_te))\n"
   ]
  },
  {
   "cell_type": "code",
   "execution_count": 7,
   "metadata": {},
   "outputs": [],
   "source": [
    "class BBClassification(TargetFunction):\n",
    "    \n",
    "    def __init__(self, dataset, lam = 1e-3,seed: int = 12131415):\n",
    "        super().__init__(dataset.n, seed)\n",
    "        self.dataset = dataset\n",
    "        self.lam = lam\n",
    "        self.loss = BCELoss(reduction='none')\n",
    "        \n",
    "    def __call__(self, w, z=None, elem_wise = False):\n",
    "        if z is None:\n",
    "            return self.loss(torch.sigmoid(torch.matmul(w, self.dataset.X.T)), self.dataset.y.repeat(w.shape[0]).view(w.shape[0], -1)).mean(dim=1, keepdim=True) \n",
    "        if not elem_wise:\n",
    "            return self.loss(torch.sigmoid(torch.matmul(w, self.dataset.X.T[:, z])), self.dataset.y[z].repeat(w.shape[0]).view(w.shape[0], -1)).mean(dim=1, keepdim=True)\n",
    "        return self.loss(torch.einsum('bd,bd->b', self.dataset.X[z, :], w).sigmoid(), self.dataset.y[z]).view(z.shape[0], 1).mean(dim=1, keepdim=True)\n",
    " "
   ]
  },
  {
   "cell_type": "code",
   "execution_count": 8,
   "metadata": {},
   "outputs": [
    {
     "name": "stdout",
     "output_type": "stream",
     "text": [
      "tensor([[0.6931],\n",
      "        [0.6931],\n",
      "        [0.6931]], dtype=torch.float64)\n"
     ]
    }
   ],
   "source": [
    "w = torch.full((3, training_set.d), 1.0, device=device, dtype=dtype)\n",
    "\n",
    "w[0, -1] = 1.0\n",
    "\n",
    "target = BBClassification(training_set, seed=12314145)\n",
    "\n",
    "z = torch.Tensor([0, 2, 3]).to(dtype=torch.int64)\n",
    "\n",
    "print(target(w, z, elem_wise=True))\n",
    "\n",
    "loss = BCELoss(reduction='none')\n",
    "\n",
    "\n"
   ]
  },
  {
   "cell_type": "code",
   "execution_count": 9,
   "metadata": {},
   "outputs": [],
   "source": [
    "from svrz.optimizers import SSZD, OSVRZ, SpiderSZO, ZOSVRG_CoordRand\n",
    "from svrz.directions import QRDirections\n",
    "\n",
    "d = training_set.d\n",
    "l = d\n",
    "seed = 1231415\n",
    "opt2 = OSVRZ(P = QRDirections(d=d,l=l, dtype=dtype, device=device, seed=seed), seed=seed)\n",
    "opt = ZOSVRG_CoordRand(d = d, l = l)\n"
   ]
  },
  {
   "cell_type": "code",
   "execution_count": 10,
   "metadata": {},
   "outputs": [],
   "source": [
    "w = torch.ones((1, training_set.d), device=device, dtype=dtype) * 10\n",
    "\n",
    "from math import sqrt\n",
    "gamma = lambda k : 1/ sqrt(k + 1)\n",
    "h = lambda k : max(1e-1 / sqrt(k + 1), 1e-5)\n",
    "\n"
   ]
  },
  {
   "cell_type": "code",
   "execution_count": 11,
   "metadata": {},
   "outputs": [
    {
     "name": "stderr",
     "output_type": "stream",
     "text": [
      "100%|██████████| 200/200 [00:15<00:00, 13.29it/s, k=199/200, f_k=0.165, time=0.0875]\n"
     ]
    }
   ],
   "source": [
    "ris2=  opt2.optimize(target, w, m=10, T= 200, gamma=0.01,h=h)\n",
    "#ris=  opt.optimize(target, w, m=10, T= 1000, gamma=0.001,h=h)\n",
    "\n"
   ]
  },
  {
   "cell_type": "code",
   "execution_count": 12,
   "metadata": {},
   "outputs": [
    {
     "data": {
      "text/plain": [
       "<matplotlib.legend.Legend at 0x7fddefd868f0>"
      ]
     },
     "execution_count": 12,
     "metadata": {},
     "output_type": "execute_result"
    },
    {
     "data": {
      "image/png": "[encoded data removed]",
      "text/plain": [
       "<Figure size 640x480 with 1 Axes>"
      ]
     },
     "metadata": {},
     "output_type": "display_data"
    }
   ],
   "source": [
    "import matplotlib.pyplot as plt\n",
    "\n",
    "\n",
    "fig, ax = plt.subplots()\n",
    "#ax.plot(range(len(ris['f_values']) ), ris['f_values'], '--', label='ZO-SVRG-Coord-Rand')\n",
    "ax.plot(range(len(ris2['f_values']) ), ris2['f_values'], '--', label = 'O-SVRZ')\n",
    "ax.set_yscale('log')\n",
    "ax.legend()"
   ]
  },
  {
   "cell_type": "code",
   "execution_count": 13,
   "metadata": {},
   "outputs": [
    {
     "name": "stdout",
     "output_type": "stream",
     "text": [
      "tensor([[ 9.7884,  9.9658,  9.8869, 10.0452,  9.9833,  9.5721,  9.8244,  9.5042,\n",
      "         10.0473,  9.9574, 10.0035, 10.0453, 10.0950,  9.0243, 10.1533,  9.7058,\n",
      "         10.0041, 10.0718, 10.0782, 10.0130,  9.9790,  9.9500,  9.9617,  9.9519,\n",
      "          9.8341,  9.9652,  9.8947, 10.1527, 10.2010,  9.9137, 10.1764,  9.9816,\n",
      "          9.8006, 10.9039, 10.2614,  9.6405,  9.9607,  9.8931,  9.6106, 10.0512,\n",
      "          9.9794, 10.0130, 10.3754,  9.7972,  9.9176,  9.8699, 10.1574,  9.9529,\n",
      "         10.0779, 10.3260,  9.9196,  9.9518, 10.0148, 10.1307, 10.0701,  9.5430,\n",
      "         10.3928, 10.1815, 10.0059,  9.9196,  9.9614,  9.9859, 10.0032, 10.6655,\n",
      "          9.8867, 10.0074,  9.8122, 10.0639]], dtype=torch.float64)\n"
     ]
    }
   ],
   "source": [
    "w = ris2['x']\n",
    "print(w)"
   ]
  },
  {
   "cell_type": "code",
   "execution_count": 17,
   "metadata": {},
   "outputs": [
    {
     "data": {
      "text/plain": [
       "tensor(0.0670, dtype=torch.float64)"
      ]
     },
     "execution_count": 17,
     "metadata": {},
     "output_type": "execute_result"
    }
   ],
   "source": [
    "((torch.sigmoid(torch.matmul(w, test_set.X.T)) > 0.5).to(torch.int64) != test_set.y).to(torch.float64).mean()# / test_set.y.shape[0]"
   ]
  },
  {
   "cell_type": "code",
   "execution_count": 19,
   "metadata": {},
   "outputs": [
    {
     "data": {
      "text/plain": [
       "tensor(0.0647, dtype=torch.float64)"
      ]
     },
     "execution_count": 19,
     "metadata": {},
     "output_type": "execute_result"
    }
   ],
   "source": [
    "((torch.sigmoid(torch.matmul(w, training_set.X.T)) > 0.5).to(torch.int64) != training_set.y).to(torch.float64).mean() #/ training_set.y.shape[0]\n"
   ]
  }
 ],
 "metadata": {
  "kernelspec": {
   "display_name": "sszd_env",
   "language": "python",
   "name": "python3"
  },
  "language_info": {
   "codemirror_mode": {
    "name": "ipython",
    "version": 3
   },
   "file_extension": ".py",
   "mimetype": "text/x-python",
   "name": "python",
   "nbconvert_exporter": "python",
   "pygments_lexer": "ipython3",
   "version": "3.10.14"
  }
 },
 "nbformat": 4,
 "nbformat_minor": 2
}
